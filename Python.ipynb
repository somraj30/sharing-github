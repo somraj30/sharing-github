{
 "cells": [
  {
   "cell_type": "code",
   "execution_count": 2,
   "metadata": {},
   "outputs": [
    {
     "name": "stdout",
     "output_type": "stream",
     "text": [
      "[-5, -4, -3, -2, -1, 0, 1, 2, 3, 4]\n"
     ]
    }
   ],
   "source": [
    "print(list(range(-5, 5)))"
   ]
  },
  {
   "cell_type": "code",
   "execution_count": 3,
   "metadata": {},
   "outputs": [
    {
     "data": {
      "text/plain": [
       "{'great': 2,\n",
       " 'expectations': 1,\n",
       " 'the': 2,\n",
       " 'adventures': 2,\n",
       " 'of': 2,\n",
       " 'sherlock': 1,\n",
       " 'holmes': 1,\n",
       " 'gasby': 1,\n",
       " 'hamlet': 1,\n",
       " 'huckleberry': 1,\n",
       " 'fin': 1}"
      ]
     },
     "execution_count": 3,
     "metadata": {},
     "output_type": "execute_result"
    }
   ],
   "source": [
    "book_title =  ['great', 'expectations','the', 'adventures', 'of', 'sherlock','holmes','the','great','gasby','hamlet','adventures','of','huckleberry','fin']\n",
    "word_counter = {}\n",
    "for word in book_title:\n",
    "    if word not in word_counter:\n",
    "        word_counter[word] = 1\n",
    "    else:\n",
    "        word_counter[word] += 1\n",
    "word_counter\n"
   ]
  },
  {
   "cell_type": "code",
   "execution_count": 1,
   "metadata": {},
   "outputs": [
    {
     "name": "stdout",
     "output_type": "stream",
     "text": [
      "Samar Soni\n",
      "['Somraj Soni', 'Kajal Soni', 'Ramesh Soni', 'kavita Soni']\n"
     ]
    }
   ],
   "source": [
    "names = [\"Somraj Soni\", \"Kajal Soni\", \"Ramesh Soni\", \"kavita Soni\", \"Samar Soni\"]\n",
    "print(names.pop())\n",
    "print(names)"
   ]
  },
  {
   "cell_type": "code",
   "execution_count": 6,
   "metadata": {},
   "outputs": [
    {
     "name": "stdout",
     "output_type": "stream",
     "text": [
      "Ramesh Soni\n",
      "['Somraj Soni', 'Kajal Soni', 'kavita Soni', 'Samar Soni']\n"
     ]
    }
   ],
   "source": [
    "names = [\"Somraj Soni\", \"Kajal Soni\", \"Ramesh Soni\", \"kavita Soni\", \"Samar Soni\"]\n",
    "print(names.pop(2))\n",
    "print(names) #for pop index can be used"
   ]
  },
  {
   "cell_type": "code",
   "execution_count": 7,
   "metadata": {},
   "outputs": [
    {
     "name": "stdout",
     "output_type": "stream",
     "text": [
      "720\n"
     ]
    }
   ],
   "source": [
    "number = 6\n",
    "current = 1\n",
    "product = 1\n",
    "while current <= number :\n",
    "    product *= current\n",
    "    current += 1\n",
    "print(product)"
   ]
  },
  {
   "cell_type": "markdown",
   "metadata": {},
   "source": [
    "range() is a built-in function of Python. It is used when a user needs to perform an action for a specific number of times. range() in Python(3.x) is just a renamed version of a function called xrange in Python(2.x). The range() function is used to generate a sequence of numbers.\n",
    "\n",
    "There are three ways you can call range() :\n",
    "range(stop) takes one argument.\n",
    "range(start, stop) takes two arguments.\n",
    "range(start, stop, step) takes three arguments\n",
    "\n",
    "start: integer starting from which the sequence of integers is to be returned\n",
    "stop: integer before which the sequence of integers is to be returned.\n",
    "The range of integers end at stop – 1.\n",
    "step: integer value which determines the increment between each integer in the sequence"
   ]
  },
  {
   "cell_type": "code",
   "execution_count": 1,
   "metadata": {},
   "outputs": [
    {
     "name": "stdout",
     "output_type": "stream",
     "text": [
      "1\n",
      "2\n",
      "3\n",
      "5\n",
      "6\n",
      "10\n",
      "15\n",
      "30\n"
     ]
    }
   ],
   "source": [
    "number = 30\n",
    "for i in range(1, number + 1):\n",
    "        if number % i == 0:\n",
    "            print(i)"
   ]
  },
  {
   "cell_type": "code",
   "execution_count": 20,
   "metadata": {},
   "outputs": [
    {
     "name": "stdout",
     "output_type": "stream",
     "text": [
      "26 is a not a prime number.\n",
      "[1, 2, 13, 26] is a factor of 26.\n",
      "39 is a not a prime number.\n",
      "[1, 3, 13, 39] is a factor of 39.\n",
      "51 is a not a prime number.\n",
      "[1, 3, 17, 51] is a factor of 51.\n",
      "53 is a prime number.\n",
      "57 is a not a prime number.\n",
      "[1, 3, 19, 57] is a factor of 57.\n",
      "79 is a prime number.\n",
      "85 is a not a prime number.\n",
      "[1, 5, 17, 85] is a factor of 85.\n",
      "25 is a not a prime number.\n",
      "[1, 5, 25] is a factor of 25.\n",
      "89 is a prime number.\n",
      "76 is a not a prime number.\n",
      "[1, 2, 4, 19, 38, 76] is a factor of 76.\n"
     ]
    },
    {
     "data": {
      "text/plain": [
       "[(26, 'not prime'),\n",
       " (39, 'not prime'),\n",
       " (51, 'not prime'),\n",
       " (53, 'prime'),\n",
       " (57, 'not prime'),\n",
       " (79, ' prime'),\n",
       " (85, 'not prime'),\n",
       " (25, 'not prime'),\n",
       " (89, 'prime'),\n",
       " (76, 'not prime')]"
      ]
     },
     "execution_count": 20,
     "metadata": {},
     "output_type": "execute_result"
    }
   ],
   "source": [
    "## Your code should check if each number in the list is a prime number\n",
    "check_prime = [26, 39, 51, 53, 57, 79, 85, 25, 89, 76]\n",
    "words = [\"not prime\", \"not prime\", \"not prime\", \"prime\", \"not prime\", \" prime\", \"not prime\", \"not prime\", \"prime\", \"not prime\"]\n",
    "## write your code here\n",
    "## HINT: You can use the modulo operator to find a factor\n",
    "for number in check_prime:\n",
    "    factor_i = []\n",
    "    for i in range(1, number + 1):\n",
    "        if number % i == 0:\n",
    "            factor_i.append(i)\n",
    "    len_of_factor = len(factor_i)\n",
    "    if len_of_factor >2:\n",
    "        print(\"{} is a not a prime number.\".format(number))\n",
    "        print(\"{} is a factor of {}.\".format(factor_i, number))\n",
    "    else:\n",
    "        print(\"{} is a prime number.\".format(number))\n",
    "        \n",
    "list(zip(check_prime, words))\n",
    "    \n"
   ]
  },
  {
   "cell_type": "markdown",
   "metadata": {},
   "source": [
    "# Zip and Enumerate"
   ]
  },
  {
   "cell_type": "markdown",
   "metadata": {},
   "source": [
    "Zip and enumerate are useful built-in functions that can come in handy when dealing with loops.\n",
    "\n",
    "Zip\n",
    "zip returns an iterator that combines multiple iterables into one sequence of tuples. Each tuple contains the elements in that position from all the iterables. \n",
    "For example, printing\n",
    "list(zip(['a', 'b', 'c'], [1, 2, 3])) would output [('a', 1), ('b', 2), ('c', 3)].\n",
    "Like we did for range() we need to convert it to a list or iterate through it with a loop to see the elements.\n",
    "\n",
    "You could unpack each tuple in a for loop like this.\n",
    "letters = ['a', 'b', 'c']\n",
    "nums = [1, 2, 3]\n",
    "for letter, num in zip(letters, nums):\n",
    "    print(\"{}: {}\".format(letter, num))\n",
    "\n",
    "In addition to zipping two lists together, you can also unzip a list into tuples using an asterisk.\n",
    "some_list = [('a', 1), ('b', 2), ('c', 3)]\n",
    "letters, nums = zip(*some_list)\n",
    "This would create the same letters and nums tuples we saw earlier.\n",
    "\n",
    "Enumerate\n",
    "enumerate is a built in function that returns an iterator of tuples containing indices and values of a list. You'll often use this when you want the index along with each element of an iterable in a loop.\n",
    "\n",
    "letters = ['a', 'b', 'c', 'd', 'e']\n",
    "for i, letter in enumerate(letters):\n",
    "    print(i, letter)\n",
    "This code would output:\n",
    "0 a\n",
    "1 b\n",
    "2 c\n",
    "3 d\n",
    "4 e"
   ]
  },
  {
   "cell_type": "code",
   "execution_count": 23,
   "metadata": {},
   "outputs": [
    {
     "name": "stdout",
     "output_type": "stream",
     "text": [
      "0 a\n",
      "1 b\n",
      "2 c\n",
      "3 d\n",
      "4 e\n"
     ]
    }
   ],
   "source": [
    "letters = ['a', 'b', 'c', 'd', 'e']\n",
    "for i, letter in enumerate(letters):\n",
    "    print(i, letter)"
   ]
  },
  {
   "cell_type": "code",
   "execution_count": 24,
   "metadata": {},
   "outputs": [
    {
     "name": "stdout",
     "output_type": "stream",
     "text": [
      "a: 1\n",
      "b: 2\n",
      "c: 3\n"
     ]
    }
   ],
   "source": [
    "letters = ['a', 'b', 'c']\n",
    "nums = [1, 2, 3]\n",
    "for letter, num in zip(letters, nums):\n",
    "    print(\"{}: {}\".format(letter, num))\n",
    "\n",
    "    "
   ]
  },
  {
   "cell_type": "code",
   "execution_count": 28,
   "metadata": {},
   "outputs": [
    {
     "name": "stdout",
     "output_type": "stream",
     "text": [
      "[('bananas', 15), ('apple', 29), ('orange', 39), ('pineapple', 69), ('mango', 45)]\n",
      "bananas 15\n",
      "apple 29\n",
      "orange 39\n",
      "pineapple 69\n",
      "mango 45\n",
      "bananas 15\n",
      "apple 29\n",
      "orange 39\n",
      "pineapple 69\n",
      "mango 45\n"
     ]
    }
   ],
   "source": [
    "items = ['bananas', 'apple', 'orange', 'pineapple', 'mango']\n",
    "weight = [15, 29, 39, 69, 45]\n",
    "print(list(zip(items, weight)))\n",
    "# it can also be used in for loops\n",
    "for cargo in zip(items, weight):\n",
    "    print(cargo[0], cargo[1])\n",
    "for items, weight in zip(items, weight):\n",
    "    print(items, weight)"
   ]
  },
  {
   "cell_type": "code",
   "execution_count": 32,
   "metadata": {},
   "outputs": [
    {
     "name": "stdout",
     "output_type": "stream",
     "text": [
      "[('bananas', 15), ('apple', 29), ('orange', 39), ('pineapple', 69), ('mango', 45)]\n",
      "('bananas', 'apple', 'orange', 'pineapple', 'mango')\n",
      "(15, 29, 39, 69, 45)\n"
     ]
    }
   ],
   "source": [
    "items = ['bananas', 'apple', 'orange', 'pineapple', 'mango']\n",
    "weight = [15, 29, 39, 69, 45]\n",
    "manifest = list(zip(items, weight))\n",
    "print(manifest)\n",
    "items, weight = zip(*manifest)\n",
    "print(items)\n",
    "print(weight)"
   ]
  },
  {
   "cell_type": "code",
   "execution_count": 1,
   "metadata": {},
   "outputs": [
    {
     "name": "stdout",
     "output_type": "stream",
     "text": [
      "['Barney Stinson 72', 'Robin Scherbatsky 68', 'Ted Mosby 72', 'Lily Aldrin 66', 'Marshall Eriksen 76']\n"
     ]
    }
   ],
   "source": [
    "#Quiz: Enumerate\n",
    "#Use enumerate to modify the cast list so that each element contains the name followed by the character's corresponding height.\n",
    "#For example, the first element of cast should change from \"Barney Stinson\" to \"Barney Stinson 72\".\n",
    "cast = [\"Barney Stinson\", \"Robin Scherbatsky\", \"Ted Mosby\", \"Lily Aldrin\", \"Marshall Eriksen\"]\n",
    "heights = [72, 68, 72, 66, 76]\n",
    "final = []\n",
    "# write your for loop here\n",
    "for height, name in zip(heights, cast):\n",
    "    names = name + \" \" + str(height)\n",
    "    final.append(names)\n",
    "cast = final\n",
    "print(cast)"
   ]
  },
  {
   "cell_type": "code",
   "execution_count": null,
   "metadata": {},
   "outputs": [],
   "source": [
    "#Quiz: Transpose with Zip\n",
    "#Use zip to transpose data from a 4-by-3 matrix to a 3-by-4 matrix. \n",
    "#There's actually a cool trick for this! Feel free to look at the solutions if you can't figure it out.\n",
    "data = ((0, 1, 2), (3, 4, 5), (6, 7, 8), (9, 10, 11))\n",
    "\n",
    "x_coord,y_coord, z_coord = zip(*data)\n",
    "\n",
    "data_transpose = (x_coord, y_coord, z_coord) # replace with your code\n",
    "print(data_transpose)"
   ]
  },
  {
   "cell_type": "code",
   "execution_count": null,
   "metadata": {},
   "outputs": [],
   "source": [
    "# Quiz: Unzip Tuples\n",
    "# Unzip the cast tuple into two names and heights tuples\n",
    "cast = ((\"Barney\", 72), (\"Robin\", 68), (\"Ted\", 72), (\"Lily\", 66), (\"Marshall\", 76))\n",
    "\n",
    "# define names and heights here\n",
    "names, heights = zip(*cast)\n",
    "\n",
    "print(names)\n",
    "print(heights)"
   ]
  },
  {
   "cell_type": "code",
   "execution_count": 8,
   "metadata": {},
   "outputs": [
    {
     "name": "stdout",
     "output_type": "stream",
     "text": [
      "{'Barney': 72, 'Robin': 68, 'Ted': 72, 'Lily': 66, 'Marshall': 76}\n"
     ]
    }
   ],
   "source": [
    "# Quiz: Zip Lists to a Dictionary\n",
    "# Use zip to create a dictionary cast that uses names as keys and heights as values.\n",
    "cast_names = [\"Barney\", \"Robin\", \"Ted\", \"Lily\", \"Marshall\"]\n",
    "cast_heights = [72, 68, 72, 66, 76]\n",
    "\n",
    "cast = dict(list(zip(cast_names, cast_heights)))\n",
    "print(cast)"
   ]
  },
  {
   "cell_type": "code",
   "execution_count": 2,
   "metadata": {},
   "outputs": [
    {
     "name": "stdout",
     "output_type": "stream",
     "text": [
      "('F', 23, 677, 4)\n",
      "('J', 53, 233, 16)\n",
      "('A', 2, 405, -6)\n",
      "('Q', -12, 433, -42)\n",
      "('Y', 95, 905, 3)\n",
      "('B', 103, 376, -6)\n",
      "('W', 14, 432, 23)\n",
      "('X', -5, 445, -1)\n",
      "F: 23, 677, 4\n",
      "J: 53, 233, 16\n",
      "A: 2, 405, -6\n",
      "Q: -12, 433, -42\n",
      "Y: 95, 905, 3\n",
      "B: 103, 376, -6\n",
      "W: 14, 432, 23\n",
      "X: -5, 445, -1\n"
     ]
    }
   ],
   "source": [
    "# Quiz: Zip Coordinates\n",
    "# Use zip to write a for loop that creates a string specifying the label and coordinates of each point and appends it to the\n",
    "# list points. Each string should be formatted as label: x, y, z. For example, the string for the first coordinate should be \n",
    "# F: 23, 677, 4\n",
    "x_coord = [23, 53, 2, -12, 95, 103, 14, -5]\n",
    "y_coord = [677, 233, 405, 433, 905, 376, 432, 445]\n",
    "z_coord = [4, 16, -6, -42, 3, -6, 23, -1]\n",
    "labels = [\"F\", \"J\", \"A\", \"Q\", \"Y\", \"B\", \"W\", \"X\"]\n",
    "\n",
    "points = []\n",
    "# write your for loop here\n",
    "for label in zip(labels, x_coord, y_coord, z_coord):\n",
    "    points.append((label[0], label[1], label[2], label[3]))\n",
    "\n",
    "\n",
    "for point in points:\n",
    "    print(point)    \n",
    "    \n",
    "x_coord = [23, 53, 2, -12, 95, 103, 14, -5]\n",
    "y_coord = [677, 233, 405, 433, 905, 376, 432, 445]\n",
    "z_coord = [4, 16, -6, -42, 3, -6, 23, -1]\n",
    "labels = [\"F\", \"J\", \"A\", \"Q\", \"Y\", \"B\", \"W\", \"X\"]\n",
    "\n",
    "points = []\n",
    "for point in zip(labels, x_coord, y_coord, z_coord):\n",
    "    points.append(\"{}: {}, {}, {}\".format(*point))\n",
    "\n",
    "for point in points:\n",
    "    print(point)"
   ]
  },
  {
   "cell_type": "code",
   "execution_count": 5,
   "metadata": {},
   "outputs": [
    {
     "name": "stdout",
     "output_type": "stream",
     "text": [
      "['rick', 'morty', 'summer', 'jerry', 'beth']\n",
      "[3, 6, 9, 12, 15, 18, 21, 24, 27, 30, 33, 36, 39, 42, 45, 48, 51, 54, 57, 60]\n",
      "['Rick Sanchez', 'Summer Smith', 'Beth Smith']\n"
     ]
    }
   ],
   "source": [
    "#Use a list comprehension to create a new list first_names containing just the first names in names in lowercase.\n",
    "names = [\"Rick Sanchez\", \"Morty Smith\", \"Summer Smith\", \"Jerry Smith\", \"Beth Smith\"]\n",
    "\n",
    "first_names = [name.lower().split()[0] for name in names] # write your list comprehension here\n",
    "print(first_names)\n",
    "\n",
    "#Use a list comprehension to create a list multiples_3 containing the first 20 multiples of 3.\n",
    "multiples_3 = [i*3 for i in range(1, 21)]# write your list comprehension here\n",
    "print(multiples_3)\n",
    "\n",
    "#Use a list comprehension to create a list of names passed that only include those that scored at least 65.\n",
    "scores = {\n",
    "             \"Rick Sanchez\": 70,\n",
    "             \"Morty Smith\": 35,\n",
    "             \"Summer Smith\": 82,\n",
    "             \"Jerry Smith\": 23,\n",
    "             \"Beth Smith\": 98\n",
    "          }\n",
    "\n",
    "passed = [key for key, value in scores.items() if value >= 65 ]  # write your list comprehension here\n",
    "\n",
    "print(passed)"
   ]
  },
  {
   "cell_type": "code",
   "execution_count": 1,
   "metadata": {},
   "outputs": [
    {
     "name": "stdout",
     "output_type": "stream",
     "text": [
      "nom_count_dict = {'Ang Lee': 2, 'Peter Yates': 2, 'David Lynch': 3, 'Norman Taurog': 2, 'Peter Jackson': 2, 'Mike Leigh': 2, 'Charles Walters': 1, 'Robert Mulligan': 1, 'John Cassavetes': 1, 'John G. Avildsen': 1, 'Rob Marshall': 1, 'George Cukor': 5, 'Henry Koster': 1, 'Richard Brooks': 3, 'Bennett Miller': 1, 'William Wellman': 2, 'Tony Richardson': 1, 'David O. Russell': 1, 'Clint Eastwood': 4, 'Martin Ritt': 1, 'Gus Van Sant': 2, 'John Farrow': 1, 'Krzysztof Kieslowski': 1, 'W. S. Van Dyke': 2, 'Joshua Logan': 2, 'Joel Coen': 3, 'Michael Anderson': 1, 'Paul Thomas Anderson': 1, 'John Madden': 1, 'Stephen Frears': 2, 'Francis Ford Coppola': 3, 'Robert Siodmak': 1, 'George Lucas': 2, 'Robert Zemeckis': 1, 'Hal Ashby': 1, 'Laurence Olivier': 1, 'Peter Glenville': 1, 'Woody Allen': 6, 'John Sturges': 1, 'Roman Polanski': 3, 'Robert Redford': 2, 'Martin Brest': 1, 'Pietro Germi': 1, 'M. Night Shyamalan': 1, 'Kevin Costner': 1, 'Peter Bogdanovich': 1, 'Walter Lang': 1, 'David Lean': 7, 'Franklin J. Schaffner': 1, 'Steven Spielberg': 6, 'Peter Weir': 4, 'Mark Rydell': 1, 'William Dieterle': 1, 'Chris Noonan': 1, 'Jim Sheridan': 2, 'Jonathan Demme': 1, 'Jane Campion': 1, 'Milos Forman': 3, 'Michelangelo Antonioni': 1, 'John Boorman': 2, 'Arthur Penn': 3, 'Tom Hooper': 1, 'Sofia Coppola': 1, 'Lewis Milestone': 1, 'Tony Gilroy': 1, 'Neil Jordan': 1, 'Anthony Minghella': 1, 'Arthur Hiller': 1, 'Michael Cacoyannis': 1, 'George Seaton': 1, 'Wolfgang Petersen': 1, 'Mervyn LeRoy': 1, 'John Ford': 5, 'Franco Zeffirelli': 1, 'Kathryn Bigelow': 1, 'Sidney Lumet': 4, 'Buck Henry': 1, 'Jack Cardiff': 1, 'Ethan Coen': 2, 'Robert Altman': 5, 'Louis Malle': 1, 'Terrence Malick': 1, 'Stanley Kramer': 3, 'Michael Cimino': 1, 'Martin Scorsese': 6, 'Sam Wood': 3, 'Robert Benton': 2, 'Edouard Molinaro': 1, 'Spike Jonze': 1, 'David Fincher': 2, 'Hiroshi Teshigahara': 1, 'Robert Wise': 3, 'Jules Dassin': 1, 'Francis Coppola': 1, 'Elia Kazan': 5, 'Scott Hicks': 1, 'Danny Boyle': 1, 'Barbet Schroeder': 1, 'Mark Robson': 2, 'Frank Borzage': 1, 'Henry King': 2, 'Michael Mann': 1, 'Herbert Ross': 1, 'Billy Wilder': 8, 'Robert Z. Leonard': 1, 'Otto Preminger': 2, 'Alan Parker': 2, 'Mel Gibson': 1, 'Barry Levinson': 2, 'James L. Brooks': 1, 'Alexander Payne': 1, 'James Ivory': 3, 'Alexander Hall': 1, 'James Cameron': 2, 'Richard Rush': 1, 'Tim Robbins': 1, 'John Singleton': 1, 'Claude Lelouch': 1, 'Ingmar Bergman': 3, 'Akira Kurosawa': 1, 'Jack Clayton': 1, 'Edward Dmytryk': 1, 'Roland Joffe': 2, 'Howard Hawks': 1, 'Vincente Minnelli': 2, 'Orson Welles': 1, 'John Schlesinger': 3, 'Hugh Hudson': 1, 'Jerome Robbins': 1, 'Clarence Brown': 4, 'Ridley Scott': 3, 'Fernando Meirelles': 1, 'Mike Nichols': 4, 'Delbert Mann': 1, 'Ron Howard': 2, 'Ernst Lubitsch': 1, 'Steven Soderbergh': 2, 'Hector Babenco': 1, 'Frank Lloyd': 2, 'Anatole Litvak': 1, 'William Friedkin': 2, 'Alan J. Pakula': 1, 'Lasse Hallstrom': 2, 'Charles Crichton': 1, 'Jean Renoir': 1, 'Robert Rossen': 2, 'J. Lee Thompson': 1, 'Curtis Hanson': 1, 'Anthony Harvey': 1, 'George Stevens': 5, 'Ken Russell': 1, 'Lina Wertmuller': 1, 'Warren Beatty': 2, 'Jan Troell': 1, 'Paul Greengrass': 1, 'Mike Figgis': 1, 'George Roy Hill': 2, 'Taylor Hackford': 1, 'Quentin Tarantino': 2, 'Oliver Stone': 3, 'Pedro Almodovar': 1, 'Paul Haggis': 1, 'George Clooney': 1, 'Frank Capra': 6, 'Peter Cattaneo': 1, 'William A. Wellman': 1, 'John Huston': 5, 'Cecil B. DeMille': 1, 'Josef Von Sternberg': 2, 'Stanley Kubrick': 4, 'Bob Fosse': 3, 'Sydney Pollack': 3, 'Bernardo Bertolucci': 2, 'Darren Aronofsky': 1, 'Atom Egoyan': 1, 'Jason Reitman': 2, 'Sam Mendes': 1, 'Costa-Gavras': 1, 'Roberto Benigni': 1, 'Julian Schnabel': 1, 'Francois Truffaut': 1, 'Leo McCarey': 3, 'Alfred Hitchcock': 5, 'Stephen Daldry': 3, 'Gillo Pontecorvo': 1, 'Richard Attenborough': 1, 'Kenneth Branagh': 1, 'Joseph L. Mankiewicz': 4, 'Adrian Lyne': 1, 'Frank Perry': 1, 'Carol Reed': 3, 'Gregory La Cava': 2, 'Robert Stevenson': 1, 'Bruce Beresford': 1, 'Victor Schertzinger': 1, 'Sidney Franklin': 1, 'Michael Radford': 1, 'Alejandro Gonzaalez Inarritu': 1, 'Wesley Ruggles': 1, 'Victor Fleming': 1, 'Michael Curtiz': 5, 'Henry Hathaway': 1, 'Fred Zinnemann': 7, 'Federico Fellini': 4, 'Jean Negulesco': 1, 'Lee Daniels': 1, 'King Vidor': 3, 'William Wyler': 12, 'Norman Jewison': 3}\n",
      "\n",
      "win_count_dict = {'George Stevens': 2, 'Woody Allen': 1, 'Robert Redford': 1, 'Robert Wise': 2, 'Roman Polanski': 1, 'Ang Lee': 1, 'Warren Beatty': 1, 'Norman Taurog': 1, 'Elia Kazan': 2, 'Peter Jackson': 1, 'Danny Boyle': 1, 'Kevin Costner': 1, 'Franklin J. Schaffner': 1, 'David Lean': 2, 'Frank Borzage': 1, 'George Roy Hill': 1, 'John G. Avildsen': 1, 'Jonathan Demme': 1, 'Billy Wilder': 2, 'Milos Forman': 2, 'Oliver Stone': 2, 'Mel Gibson': 1, 'Barry Levinson': 1, 'Frank Capra': 3, 'George Cukor': 1, 'James L. Brooks': 1, 'Tom Hooper': 1, 'John Huston': 1, 'James Cameron': 1, 'Tony Richardson': 1, 'Bob Fosse': 1, 'Clint Eastwood': 2, 'Sydney Pollack': 1, 'Bernardo Bertolucci': 1, 'Anthony Minghella': 1, 'Sam Mendes': 1, 'Joel Coen': 1, 'Leo McCarey': 2, 'Richard Attenborough': 1, 'Joseph L. Mankiewicz': 2, 'Vincente Minnelli': 1, 'John Ford': 4, 'John Schlesinger': 1, 'Jerome Robbins': 1, 'Kathryn Bigelow': 1, 'Carol Reed': 1, 'Mike Nichols': 1, 'Ethan Coen': 1, 'Delbert Mann': 1, 'Francis Ford Coppola': 1, 'Ron Howard': 1, 'Steven Soderbergh': 1, 'Frank Lloyd': 1, 'Michael Cimino': 1, 'Victor Fleming': 1, 'William Friedkin': 1, 'Robert Benton': 1, 'Michael Curtiz': 1, 'Fred Zinnemann': 2, 'Martin Scorsese': 1, 'Robert Zemeckis': 1, 'William Wyler': 3, 'Steven Spielberg': 2}\n",
      "63\n"
     ]
    }
   ],
   "source": [
    "# The following questions are based on data on Oscar Award Nominations for Best Director between the years 1931 to 2010. \n",
    "# To start you off, we've provided a dictionary called \"nominated\" with the year (as key) and list of directors who were \n",
    "# nominated in that year (as value). We've provided you with a different dictionary called \"winners\" with the year (as key) \n",
    "# and list of directors who won the award in that year (as value).\n",
    "\n",
    "nominated = {1931: ['Norman Taurog', 'Wesley Ruggles', 'Clarence Brown', 'Lewis Milestone', 'Josef Von Sternberg'], 1932: ['Frank Borzage', 'King Vidor', 'Josef Von Sternberg'], 1933: ['Frank Lloyd', 'Frank Capra', 'George Cukor'], 1934: ['Frank Capra', 'Victor Schertzinger', 'W. S. Van Dyke'], 1935: ['John Ford', 'Michael Curtiz', 'Henry Hathaway', 'Frank Lloyd'], 1936: ['Frank Capra', 'William Wyler', 'Robert Z. Leonard', 'Gregory La Cava', 'W. S. Van Dyke'], 1937: ['Leo McCarey', 'Sidney Franklin', 'William Dieterle', 'Gregory La Cava', 'William Wellman'], 1938: ['Frank Capra', 'Michael Curtiz', 'Norman Taurog', 'King Vidor', 'Michael Curtiz'], 1939: ['Sam Wood', 'Frank Capra', 'John Ford', 'William Wyler', 'Victor Fleming'], 1940: ['John Ford', 'Sam Wood', 'William Wyler', 'George Cukor', 'Alfred Hitchcock'], 1941: ['John Ford', 'Orson Welles', 'Alexander Hall', 'William Wyler', 'Howard Hawks'], 1942: ['Sam Wood', 'Mervyn LeRoy', 'John Farrow', 'Michael Curtiz', 'William Wyler'], 1943: ['Michael Curtiz', 'Ernst Lubitsch', 'Clarence Brown', 'George Stevens', 'Henry King'], 1944: ['Leo McCarey', 'Billy Wilder', 'Otto Preminger', 'Alfred Hitchcock', 'Henry King'], 1945: ['Billy Wilder', 'Leo McCarey', 'Clarence Brown', 'Jean Renoir', 'Alfred Hitchcock'], 1946: ['David Lean', 'Frank Capra', 'Robert Siodmak', 'Clarence Brown', 'William Wyler'], 1947: ['Elia Kazan', 'Henry Koster', 'Edward Dmytryk', 'George Cukor', 'David Lean'], 1948: ['John Huston', 'Laurence Olivier', 'Jean Negulesco', 'Fred Zinnemann', 'Anatole Litvak'], 1949: ['Joseph L. Mankiewicz', 'Robert Rossen', 'William A. Wellman', 'Carol Reed', 'William Wyler'], 1950: ['Joseph L. Mankiewicz', 'John Huston', 'George Cukor', 'Billy Wilder', 'Carol Reed'], 1951: ['George Stevens', 'John Huston', 'Vincente Minnelli', 'William Wyler', 'Elia Kazan'], 1952: ['John Ford', 'Joseph L. Mankiewicz', 'Cecil B. DeMille', 'Fred Zinnemann', 'John Huston'], 1953: ['Fred Zinnemann', 'Charles Walters', 'William Wyler', 'George Stevens', 'Billy Wilder'], 1954: ['Elia Kazan', 'George Seaton', 'William Wellman', 'Alfred Hitchcock', 'Billy Wilder'], 1955: ['Delbert Mann', 'John Sturges', 'Elia Kazan', 'Joshua Logan', 'David Lean'], 1956: ['George Stevens', 'Michael Anderson', 'William Wyler', 'Walter Lang', 'King Vidor'], 1957: ['David Lean', 'Mark Robson', 'Joshua Logan', 'Sidney Lumet', 'Billy Wilder'], 1958: ['Richard Brooks', 'Stanley Kramer', 'Robert Wise', 'Mark Robson', 'Vincente Minnelli'], 1959: ['George Stevens', 'Fred Zinnemann', 'Jack Clayton', 'Billy Wilder', 'William Wyler'], 1960: ['Billy Wilder', 'Jules Dassin', 'Alfred Hitchcock', 'Jack Cardiff', 'Fred Zinnemann'], 1961: ['J. Lee Thompson', 'Robert Rossen', 'Stanley Kramer', 'Federico Fellini', 'Robert Wise', 'Jerome Robbins'], 1962: ['David Lean', 'Frank Perry', 'Pietro Germi', 'Arthur Penn', 'Robert Mulligan'], 1963: ['Elia Kazan', 'Otto Preminger', 'Federico Fellini', 'Martin Ritt', 'Tony Richardson'], 1964: ['George Cukor', 'Peter Glenville', 'Stanley Kubrick', 'Robert Stevenson', 'Michael Cacoyannis'], 1965: ['William Wyler', 'John Schlesinger', 'David Lean', 'Hiroshi Teshigahara', 'Robert Wise'], 1966: ['Fred Zinnemann', 'Michelangelo Antonioni', 'Claude Lelouch', 'Richard Brooks', 'Mike Nichols'], 1967: ['Arthur Penn', 'Stanley Kramer', 'Richard Brooks', 'Norman Jewison', 'Mike Nichols'], 1968: ['Carol Reed', 'Gillo Pontecorvo', 'Anthony Harvey', 'Franco Zeffirelli', 'Stanley Kubrick'], 1969: ['John Schlesinger', 'Arthur Penn', 'George Roy Hill', 'Sydney Pollack', 'Costa-Gavras'], 1970: ['Franklin J. Schaffner', 'Federico Fellini', 'Arthur Hiller', 'Robert Altman', 'Ken Russell'], 1971: ['Stanley Kubrick', 'Norman Jewison', 'Peter Bogdanovich', 'John Schlesinger', 'William Friedkin'], 1972: ['Bob Fosse', 'John Boorman', 'Jan Troell', 'Francis Ford Coppola', 'Joseph L. Mankiewicz'], 1973: ['George Roy Hill', 'George Lucas', 'Ingmar Bergman', 'William Friedkin', 'Bernardo Bertolucci'], 1974: ['Francis Ford Coppola', 'Roman Polanski', 'Francois Truffaut', 'Bob Fosse', 'John Cassavetes'], 1975: ['Federico Fellini', 'Stanley Kubrick', 'Sidney Lumet', 'Robert Altman', 'Milos Forman'], 1976: ['Alan J. Pakula', 'Ingmar Bergman', 'Sidney Lumet', 'Lina Wertmuller', 'John G. Avildsen'], 1977: ['Steven Spielberg', 'Fred Zinnemann', 'George Lucas', 'Herbert Ross', 'Woody Allen'], 1978: ['Hal Ashby', 'Warren Beatty', 'Buck Henry', 'Woody Allen', 'Alan Parker', 'Michael Cimino'], 1979: ['Bob Fosse', 'Francis Coppola', 'Peter Yates', 'Edouard Molinaro', 'Robert Benton'], 1980: ['David Lynch', 'Martin Scorsese', 'Richard Rush', 'Roman Polanski', 'Robert Redford'], 1981: ['Louis Malle', 'Hugh Hudson', 'Mark Rydell', 'Steven Spielberg', 'Warren Beatty'], 1982: ['Wolfgang Petersen', 'Steven Spielberg', 'Sydney Pollack', 'Sidney Lumet', 'Richard Attenborough'], 1983: ['Peter Yates', 'Ingmar Bergman', 'Mike Nichols', 'Bruce Beresford', 'James L. Brooks'], 1984: ['Woody Allen', 'Roland Joffe', 'David Lean', 'Robert Benton', 'Milos Forman'], 1985: ['Hector Babenco', 'John Huston', 'Akira Kurosawa', 'Peter Weir', 'Sydney Pollack'], 1986: ['David Lynch', 'Woody Allen', 'Roland Joffe', 'James Ivory', 'Oliver Stone'], 1987: ['Bernardo Bertolucci', 'Adrian Lyne', 'John Boorman', 'Norman Jewison', 'Lasse Hallstrom'], 1988: ['Barry Levinson', 'Charles Crichton', 'Martin Scorsese', 'Alan Parker', 'Mike Nichols'], 1989: ['Woody Allen', 'Peter Weir', 'Kenneth Branagh', 'Jim Sheridan', 'Oliver Stone'], 1990: ['Francis Ford Coppola', 'Martin Scorsese', 'Stephen Frears', 'Barbet Schroeder', 'Kevin Costner'], 1991: ['John Singleton', 'Barry Levinson', 'Oliver Stone', 'Ridley Scott', 'Jonathan Demme'], 1992: ['Clint Eastwood', 'Neil Jordan', 'James Ivory', 'Robert Altman', 'Martin Brest'], 1993: ['Jim Sheridan', 'Jane Campion', 'James Ivory', 'Robert Altman', 'Steven Spielberg'], 1994: ['Woody Allen', 'Quentin Tarantino', 'Robert Redford', 'Krzysztof Kieslowski', 'Robert Zemeckis'], 1995: ['Chris Noonan', 'Tim Robbins', 'Mike Figgis', 'Michael Radford', 'Mel Gibson'], 1996: ['Anthony Minghella', 'Joel Coen', 'Milos Forman', 'Mike Leigh', 'Scott Hicks'], 1997: ['Peter Cattaneo', 'Gus Van Sant', 'Curtis Hanson', 'Atom Egoyan', 'James Cameron'], 1998: ['Roberto Benigni', 'John Madden', 'Terrence Malick', 'Peter Weir', 'Steven Spielberg'], 1999: ['Spike Jonze', 'Lasse Hallstrom', 'Michael Mann', 'M. Night Shyamalan', 'Sam Mendes'], 2000: ['Stephen Daldry', 'Ang Lee', 'Steven Soderbergh', 'Ridley Scott', 'Steven Soderbergh'], 2001: ['Ridley Scott', 'Robert Altman', 'Peter Jackson', 'David Lynch', 'Ron Howard'], 2002: ['Rob Marshall', 'Martin Scorsese', 'Stephen Daldry', 'Pedro Almodovar', 'Roman Polanski'], 2003: ['Fernando Meirelles', 'Sofia Coppola', 'Peter Weir', 'Clint Eastwood', 'Peter Jackson'], 2004: ['Martin Scorsese', 'Taylor Hackford', 'Alexander Payne', 'Mike Leigh', 'Clint Eastwood'], 2005: ['Ang Lee', 'Bennett Miller', 'Paul Haggis', 'George Clooney', 'Steven Spielberg'], 2006: ['Alejandro Gonzaalez Inarritu', 'Clint Eastwood', 'Stephen Frears', 'Paul Greengrass', 'Martin Scorsese'], 2007: ['Julian Schnabel', 'Jason Reitman', 'Tony Gilroy', 'Paul Thomas Anderson', 'Joel Coen', 'Ethan Coen'], 2008: ['David Fincher', 'Ron Howard', 'Gus Van Sant', 'Stephen Daldry', 'Danny Boyle'], 2009: ['James Cameron', 'Quentin Tarantino', 'Lee Daniels', 'Jason Reitman', 'Kathryn Bigelow'], 2010: ['Darren Aronofsky', 'David O. Russell', 'David Fincher', 'Ethan Coen', 'Joel Coen', 'Tom Hooper']}\n",
    "winners = {1931: ['Norman Taurog'], 1932: ['Frank Borzage'], 1933: ['Frank Lloyd'], 1934: ['Frank Capra'], 1935: ['John Ford'], 1936: ['Frank Capra'], 1937: ['Leo McCarey'], 1938: ['Frank Capra'], 1939: ['Victor Fleming'], 1940: ['John Ford'], 1941: ['John Ford'], 1942: ['William Wyler'], 1943: ['Michael Curtiz'], 1944: ['Leo McCarey'], 1945: ['Billy Wilder'], 1946: ['William Wyler'], 1947: ['Elia Kazan'], 1948: ['John Huston'], 1949: ['Joseph L. Mankiewicz'], 1950: ['Joseph L. Mankiewicz'], 1951: ['George Stevens'], 1952: ['John Ford'], 1953: ['Fred Zinnemann'], 1954: ['Elia Kazan'], 1955: ['Delbert Mann'], 1956: ['George Stevens'], 1957: ['David Lean'], 1958: ['Vincente Minnelli'], 1959: ['William Wyler'], 1960: ['Billy Wilder'], 1961: ['Jerome Robbins', 'Robert Wise'], 1962: ['David Lean'], 1963: ['Tony Richardson'], 1964: ['George Cukor'], 1965: ['Robert Wise'], 1966: ['Fred Zinnemann'], 1967: ['Mike Nichols'], 1968: ['Carol Reed'], 1969: ['John Schlesinger'], 1970: ['Franklin J. Schaffner'], 1971: ['William Friedkin'], 1972: ['Bob Fosse'], 1973: ['George Roy Hill'], 1974: ['Francis Ford Coppola'], 1975: ['Milos Forman'], 1976: ['John G. Avildsen'], 1977: ['Woody Allen'], 1978: ['Michael Cimino'], 1979: ['Robert Benton'], 1980: ['Robert Redford'], 1981: ['Warren Beatty'], 1982: ['Richard Attenborough'], 1983: ['James L. Brooks'], 1984: ['Milos Forman'], 1985: ['Sydney Pollack'], 1986: ['Oliver Stone'], 1987: ['Bernardo Bertolucci'], 1988: ['Barry Levinson'], 1989: ['Oliver Stone'], 1990: ['Kevin Costner'], 1991: ['Jonathan Demme'], 1992: ['Clint Eastwood'], 1993: ['Steven Spielberg'], 1994: ['Robert Zemeckis'], 1995: ['Mel Gibson'], 1996: ['Anthony Minghella'], 1997: ['James Cameron'], 1998: ['Steven Spielberg'], 1999: ['Sam Mendes'], 2000: ['Steven Soderbergh'], 2001: ['Ron Howard'], 2002: ['Roman Polanski'], 2003: ['Peter Jackson'], 2004: ['Clint Eastwood'], 2005: ['Ang Lee'], 2006: ['Martin Scorsese'], 2007: ['Ethan Coen', 'Joel Coen'], 2008: ['Danny Boyle'], 2009: ['Kathryn Bigelow'], 2010: ['Tom Hooper']}\n",
    "\n",
    "### 1A: Create dictionary with the count of Oscar nominations for each director \n",
    "nom_count_dict = {}\n",
    "# Add your code here\n",
    "name_of_direc = []\n",
    "for key, value in  nominated.items():\n",
    "    for i in range(len(value)):\n",
    "        name_of_direc.append(value[i]) #name_of_direc a list containing the name of the directors with multiple occurences\n",
    "\n",
    "actual_name_dirc= set(name_of_direc) # name of directors with name occuring single time in a set\n",
    "#print(actual_name_dirc)\n",
    "        \n",
    "nom_count_dict = dict.fromkeys(actual_name_dirc , 1)     #nom_count_dict a dictionary containing name of directors as key with single time occurence\n",
    "\n",
    "\n",
    "for key, value in nom_count_dict.items():\n",
    "        value = name_of_direc.count(key)\n",
    "        nom_count_dict[key] = value\n",
    "            \n",
    "          \n",
    "            \n",
    "print(\"nom_count_dict = {}\\n\".format(nom_count_dict))\n",
    "\n",
    "\n",
    "### 1B: Create dictionary with the count of Oscar wins for each director\n",
    "win_count_dict = {}\n",
    "# Add your code here\n",
    "winner_of_direc = []\n",
    "for key, value in  winners.items():\n",
    "    for i in range(len(value)):\n",
    "        winner_of_direc.append(value[i]) #name_of_direc a list containing the name of the directors with multiple occurences\n",
    "\n",
    "actual_winner_dirc= set(winner_of_direc) # name of directors with name occuring single time in a set\n",
    "#print(actual_winner_dirc)\n",
    "        \n",
    "win_count_dict = dict.fromkeys(actual_winner_dirc , 1)     #nom_count_dict a dictionary containing name of directors as key with single time occurence\n",
    "\n",
    "\n",
    "\n",
    "for key, value in win_count_dict.items():\n",
    "        value = winner_of_direc.count(key)\n",
    "        win_count_dict[key] = value\n",
    "\n",
    "\n",
    "print(\"win_count_dict = {}\".format(win_count_dict))\n",
    "print(len(win_count_dict))\n",
    "\n"
   ]
  },
  {
   "cell_type": "code",
   "execution_count": 28,
   "metadata": {},
   "outputs": [
    {
     "name": "stdout",
     "output_type": "stream",
     "text": [
      "most_win_director = ['Frank Capra', 'John Ford']\n"
     ]
    }
   ],
   "source": [
    "winners = {1931: ['Norman Taurog'], 1932: ['Frank Borzage'], 1933: ['Frank Capra'], 1934: ['Frank Capra'], 1935: ['John Ford'], 1936: ['Frank Capra'], 1937: ['Leo McCarey'], 1938: ['Frank Capra'], 1939: ['Victor Fleming'], 1940: ['John Ford'], 1941: ['John Ford'], 1942: ['William Wyler'], 1943: ['Michael Curtiz'], 1944: ['Leo McCarey'], 1945: ['Billy Wilder'], 1946: ['William Wyler'], 1947: ['Elia Kazan'], 1948: ['John Huston'], 1949: ['Joseph L. Mankiewicz'], 1950: ['Joseph L. Mankiewicz'], 1951: ['George Stevens'], 1952: ['John Ford'], 1953: ['Fred Zinnemann'], 1954: ['Elia Kazan'], 1955: ['Delbert Mann'], 1956: ['George Stevens'], 1957: ['David Lean'], 1958: ['Vincente Minnelli'], 1959: ['William Wyler'], 1960: ['Billy Wilder'], 1961: ['Jerome Robbins', 'Robert Wise'], 1962: ['David Lean'], 1963: ['Tony Richardson'], 1964: ['George Cukor'], 1965: ['Robert Wise'], 1966: ['Fred Zinnemann'], 1967: ['Mike Nichols'], 1968: ['Carol Reed'], 1969: ['John Schlesinger'], 1970: ['Franklin J. Schaffner'], 1971: ['William Friedkin'], 1972: ['Bob Fosse'], 1973: ['George Roy Hill'], 1974: ['Francis Ford Coppola'], 1975: ['Milos Forman'], 1976: ['John G. Avildsen'], 1977: ['Woody Allen'], 1978: ['Michael Cimino'], 1979: ['Robert Benton'], 1980: ['Robert Redford'], 1981: ['Warren Beatty'], 1982: ['Richard Attenborough'], 1983: ['James L. Brooks'], 1984: ['Milos Forman'], 1985: ['Sydney Pollack'], 1986: ['Oliver Stone'], 1987: ['Bernardo Bertolucci'], 1988: ['Barry Levinson'], 1989: ['Oliver Stone'], 1990: ['Kevin Costner'], 1991: ['Jonathan Demme'], 1992: ['Clint Eastwood'], 1993: ['Steven Spielberg'], 1994: ['Robert Zemeckis'], 1995: ['Mel Gibson'], 1996: ['Anthony Minghella'], 1997: ['James Cameron'], 1998: ['Steven Spielberg'], 1999: ['Sam Mendes'], 2000: ['Steven Soderbergh'], 2001: ['Ron Howard'], 2002: ['Roman Polanski'], 2003: ['Peter Jackson'], 2004: ['Clint Eastwood'], 2005: ['Ang Lee'], 2006: ['Martin Scorsese'], 2007: ['Ethan Coen', 'Joel Coen'], 2008: ['Danny Boyle'], 2009: ['Kathryn Bigelow'], 2010: ['Tom Hooper']}\n",
    "\n",
    "\n",
    "### For Question 2: Please provide a list with the name(s) of the director(s) with \n",
    "### the most Oscar wins. The list can hold the names of multiple directors,\n",
    "### since there can be more than 1 director tied with the most Oscar wins.\n",
    "\n",
    "most_win_director = []\n",
    "# Add your code here\n",
    "\n",
    "highest_count = max(win_count_dict.values())\n",
    "\n",
    "most_win_director = [key for key, value in win_count_dict.items() if value == highest_count]\n",
    "    \n",
    " \n",
    "print(\"most_win_director = {}\".format(most_win_director))\n",
    "\n"
   ]
  },
  {
   "cell_type": "markdown",
   "metadata": {},
   "source": [
    "# Functions"
   ]
  },
  {
   "cell_type": "raw",
   "metadata": {},
   "source": [
    "Defining Functions\n",
    "Example of a function definition:\n",
    "def cylinder_volume(height, radius):\n",
    "    pi = 3.14159\n",
    "    return height * pi * radius ** 2\n",
    "After defining the cylinder_volume function, we can call the function like this.\n",
    "cylinder_volume(10, 3)\n",
    "This is called a function call statement."
   ]
  },
  {
   "cell_type": "markdown",
   "metadata": {},
   "source": [
    "A function definition includes several important parts.\n",
    "Function Header\n",
    "Let's start with the function header, which is the first line of a function definition.\n",
    "1. The function header always starts with the def keyword, which indicates that this is a function definition.\n",
    "2. Then comes the function name (here, cylinder_volume), which follows the same naming conventions as variables. You can revisit the naming conventions below.\n",
    "3. Immediately after the name are parentheses that may include arguments separated by commas (here, height and radius). Arguments, or parameters, are values that are passed in as inputs when the function is called, and are used in the function body. If a function doesn't take arguments, these parentheses are left empty.\n",
    "4. The header always end with a colon :.\n",
    "Function Body\n",
    "The rest of the function is contained in the body, which is where the function does its work.\n",
    "1. The body of a function is the code indented after the header line. Here, it's the two lines that define pi and return the volume.\n",
    "2. Within this body, we can refer to the argument variables and define new variables, which can only be used within these indented lines.\n",
    "3. The body will often include a return statement, which is used to send back an output value from the function to the statement that called the function. A return statement consists of the return keyword followed by an expression that is evaluated to get the output value for the function. If there is no return statement, the function simply returns None.\n",
    "Below, you'll find a code editor where you can experiment with this.\n",
    "Naming Conventions for Functions\n",
    "Function names follow the same naming conventions as variables.\n",
    "1. Only use ordinary letters, numbers and underscores in your function names. They can’t have spaces, and need to start with a letter or underscore.\n",
    "2. You can’t use reserved words or built-in identifiers that have important purposes in Python, which you’ll learn about throughout this course. A list of Python reserved words is described here.\n",
    "3. Try to use descriptive names that can help readers understand what the function does.\n",
    "\n"
   ]
  },
  {
   "cell_type": "markdown",
   "metadata": {},
   "source": [
    "Default Arguments\n",
    "We can add default arguments in a function to have default values for parameters that are unspecified in a function call.\n",
    "def cylinder_volume(height, radius=5):\n",
    "\n",
    "    pi = 3.14159\n",
    "    return height * pi * radius ** 2\n",
    "    \n",
    "In the example above, radius is set to 5 if that parameter is omitted in a function call. If we call cylinder_volume(10), the function will use 10 as the height and 5 as the radius. However, if we call cylinder_volume(10, 7) the 7 will simply overwrite the default value of 5.\n",
    "Also notice here we are passing values to our arguments by position. It is possible to pass values in two ways - by position and by name. Each of these function calls are evaluated the same way.\n",
    "cylinder_volume(10, 7)  # pass in arguments by position\n",
    "cylinder_volume(height=10, radius=7)  # pass in arguments by name\n"
   ]
  },
  {
   "cell_type": "code",
   "execution_count": 3,
   "metadata": {},
   "outputs": [
    {
     "name": "stdout",
     "output_type": "stream",
     "text": [
      "expected result: 10, actual result: 10.0\n",
      "expected result: 7123.6902801, actual result: 7123.690280065897\n"
     ]
    }
   ],
   "source": [
    "# write your function here\n",
    "def population_density(population, area):\n",
    "    return population/area\n",
    "\n",
    "# test cases for your function\n",
    "test1 = population_density(10, 1)\n",
    "expected_result1 = 10\n",
    "print(\"expected result: {}, actual result: {}\".format(expected_result1, test1))\n",
    "\n",
    "test2 = population_density(864816, 121.4)\n",
    "expected_result2 = 7123.6902801\n",
    "print(\"expected result: {}, actual result: {}\".format(expected_result2, test2))"
   ]
  },
  {
   "cell_type": "code",
   "execution_count": 8,
   "metadata": {},
   "outputs": [
    {
     "name": "stdout",
     "output_type": "stream",
     "text": [
      "3 week(s) and 5 day(s).\n"
     ]
    }
   ],
   "source": [
    "# write your function here\n",
    "def readable_timedelta(days):\n",
    "    remaining_days = days%7\n",
    "    no_of_weeks = days//7\n",
    "    to_be_print = \"{} week(s) and {} day(s).\".format(no_of_weeks, remaining_days)\n",
    "    return to_be_print \n",
    "\n",
    "# test your function\n",
    "print(readable_timedelta(26))"
   ]
  },
  {
   "cell_type": "code",
   "execution_count": 4,
   "metadata": {},
   "outputs": [
    {
     "ename": "NameError",
     "evalue": "name 'answer' is not defined",
     "output_type": "error",
     "traceback": [
      "\u001b[1;31m---------------------------------------------------------------------------\u001b[0m",
      "\u001b[1;31mNameError\u001b[0m                                 Traceback (most recent call last)",
      "\u001b[1;32m<ipython-input-4-2ce2ab3a9e71>\u001b[0m in \u001b[0;36m<module>\u001b[1;34m\u001b[0m\n\u001b[0;32m     11\u001b[0m         \u001b[0manswer\u001b[0m \u001b[1;33m+=\u001b[0m \u001b[1;36m1\u001b[0m\u001b[1;33m\u001b[0m\u001b[1;33m\u001b[0m\u001b[0m\n\u001b[0;32m     12\u001b[0m     \u001b[1;32mreturn\u001b[0m \u001b[0manswer\u001b[0m\u001b[1;33m**\u001b[0m\u001b[1;36m2\u001b[0m\u001b[1;33m\u001b[0m\u001b[1;33m\u001b[0m\u001b[0m\n\u001b[1;32m---> 13\u001b[1;33m \u001b[0mprint\u001b[0m\u001b[1;33m(\u001b[0m\u001b[0manswer\u001b[0m\u001b[1;33m)\u001b[0m\u001b[1;33m\u001b[0m\u001b[1;33m\u001b[0m\u001b[0m\n\u001b[0m",
      "\u001b[1;31mNameError\u001b[0m: name 'answer' is not defined"
     ]
    }
   ],
   "source": [
    "def word_count(document, search_term):\n",
    "    words = document.split()\n",
    "    answer = 0\n",
    "    for word in words:\n",
    "        if word == search_term:\n",
    "            answer += 1\n",
    "    return answer\n",
    "def nearest_square(limit):\n",
    "    answer = 0\n",
    "    while (answer + 1) ** 2 < limit:\n",
    "        answer += 1\n",
    "    return answer**2\n",
    "print(answer)\n"
   ]
  },
  {
   "cell_type": "markdown",
   "metadata": {},
   "source": [
    "# Variable Scope"
   ]
  },
  {
   "cell_type": "markdown",
   "metadata": {},
   "source": [
    "Variable Scope\n",
    "Variable scope refers to which parts of a program a variable can be referenced, or used, from.\n",
    "\n",
    "It's important to consider scope when using variables in functions. If a variable is created inside a function, it can only be used within that function. Accessing it outside that function is not possible."
   ]
  },
  {
   "cell_type": "code",
   "execution_count": 5,
   "metadata": {},
   "outputs": [
    {
     "ename": "NameError",
     "evalue": "name 'word' is not defined",
     "output_type": "error",
     "traceback": [
      "\u001b[1;31m---------------------------------------------------------------------------\u001b[0m",
      "\u001b[1;31mNameError\u001b[0m                                 Traceback (most recent call last)",
      "\u001b[1;32m<ipython-input-5-0ddf329b8322>\u001b[0m in \u001b[0;36m<module>\u001b[1;34m\u001b[0m\n\u001b[0;32m      3\u001b[0m     \u001b[0mword\u001b[0m \u001b[1;33m=\u001b[0m \u001b[1;34m\"hello\"\u001b[0m\u001b[1;33m\u001b[0m\u001b[1;33m\u001b[0m\u001b[0m\n\u001b[0;32m      4\u001b[0m \u001b[1;33m\u001b[0m\u001b[0m\n\u001b[1;32m----> 5\u001b[1;33m \u001b[0mprint\u001b[0m\u001b[1;33m(\u001b[0m\u001b[0mword\u001b[0m\u001b[1;33m)\u001b[0m\u001b[1;33m\u001b[0m\u001b[1;33m\u001b[0m\u001b[0m\n\u001b[0m",
      "\u001b[1;31mNameError\u001b[0m: name 'word' is not defined"
     ]
    }
   ],
   "source": [
    "# This will result in an error\n",
    "def some_function():\n",
    "    word = \"hello\"\n",
    "\n",
    "print(word)"
   ]
  },
  {
   "cell_type": "markdown",
   "metadata": {},
   "source": [
    "In the example above and the example below, word is said to have scope that is only local to each function. This means you can use the same name for different variables that are used in different functions."
   ]
  },
  {
   "cell_type": "code",
   "execution_count": 6,
   "metadata": {},
   "outputs": [],
   "source": [
    "# This works fine\n",
    "def some_function():\n",
    "    word = \"hello\"\n",
    "\n",
    "def another_function():\n",
    "    word = \"goodbye\"\n"
   ]
  },
  {
   "cell_type": "markdown",
   "metadata": {},
   "source": [
    "Variables defined outside functions, as in the example below, can still be accessed within a function. Here, word is said to have a global scope."
   ]
  },
  {
   "cell_type": "code",
   "execution_count": 7,
   "metadata": {},
   "outputs": [
    {
     "name": "stdout",
     "output_type": "stream",
     "text": [
      "hello\n"
     ]
    }
   ],
   "source": [
    "# This works fine\n",
    "word = \"hello\"\n",
    "\n",
    "def some_function():\n",
    "    print(word)\n",
    "\n",
    "some_function()"
   ]
  },
  {
   "cell_type": "markdown",
   "metadata": {},
   "source": [
    "Notice that we can still access the value of the global variable word within this function. However, the value of a global variable can not be modified inside the function. If you want to modify that variable's value inside this function, it should be passed in as an argument. You'll see more on this in the next quiz.\n",
    "\n",
    "Scope is essential to understanding how information is passed throughout programs in Python and really any programming language.\n",
    "\n",
    "More on Variable Scope\n",
    "When you program, you'll often find that similar ideas come up again and again. You'll use variables for things like counting, iterating and accumulating values to return. In order to write readable code, you'll find yourself wanting to use similar names for similar ideas. As soon as you put multiple piece of code together (for instance, multiple functions or function calls in a single script) you might find that you want to use the same name for two separate concepts.\n",
    "\n",
    "Fortunately, you don't need to come up with new names endlessly. Reusing names for objects is OK as long as you keep them in separate scope.\n",
    "\n",
    "Good practice: It is best to define variables in the smallest scope they will be needed in. While functions can refer to variables defined in a larger scope, this is very rarely a good idea since you may not know what variables you have defined if your program has a lot of variables."
   ]
  },
  {
   "cell_type": "code",
   "execution_count": 8,
   "metadata": {
    "scrolled": true
   },
   "outputs": [
    {
     "ename": "UnboundLocalError",
     "evalue": "local variable 'egg_count' referenced before assignment",
     "output_type": "error",
     "traceback": [
      "\u001b[1;31m---------------------------------------------------------------------------\u001b[0m",
      "\u001b[1;31mUnboundLocalError\u001b[0m                         Traceback (most recent call last)",
      "\u001b[1;32m<ipython-input-8-32dca0f4d031>\u001b[0m in \u001b[0;36m<module>\u001b[1;34m\u001b[0m\n\u001b[0;32m      4\u001b[0m     \u001b[0megg_count\u001b[0m \u001b[1;33m+=\u001b[0m \u001b[1;36m12\u001b[0m \u001b[1;31m# purchase a dozen eggs\u001b[0m\u001b[1;33m\u001b[0m\u001b[1;33m\u001b[0m\u001b[0m\n\u001b[0;32m      5\u001b[0m \u001b[1;33m\u001b[0m\u001b[0m\n\u001b[1;32m----> 6\u001b[1;33m \u001b[0mbuy_eggs\u001b[0m\u001b[1;33m(\u001b[0m\u001b[1;33m)\u001b[0m\u001b[1;33m\u001b[0m\u001b[1;33m\u001b[0m\u001b[0m\n\u001b[0m",
      "\u001b[1;32m<ipython-input-8-32dca0f4d031>\u001b[0m in \u001b[0;36mbuy_eggs\u001b[1;34m()\u001b[0m\n\u001b[0;32m      2\u001b[0m \u001b[1;33m\u001b[0m\u001b[0m\n\u001b[0;32m      3\u001b[0m \u001b[1;32mdef\u001b[0m \u001b[0mbuy_eggs\u001b[0m\u001b[1;33m(\u001b[0m\u001b[1;33m)\u001b[0m\u001b[1;33m:\u001b[0m\u001b[1;33m\u001b[0m\u001b[1;33m\u001b[0m\u001b[0m\n\u001b[1;32m----> 4\u001b[1;33m     \u001b[0megg_count\u001b[0m \u001b[1;33m+=\u001b[0m \u001b[1;36m12\u001b[0m \u001b[1;31m# purchase a dozen eggs\u001b[0m\u001b[1;33m\u001b[0m\u001b[1;33m\u001b[0m\u001b[0m\n\u001b[0m\u001b[0;32m      5\u001b[0m \u001b[1;33m\u001b[0m\u001b[0m\n\u001b[0;32m      6\u001b[0m \u001b[0mbuy_eggs\u001b[0m\u001b[1;33m(\u001b[0m\u001b[1;33m)\u001b[0m\u001b[1;33m\u001b[0m\u001b[1;33m\u001b[0m\u001b[0m\n",
      "\u001b[1;31mUnboundLocalError\u001b[0m: local variable 'egg_count' referenced before assignment"
     ]
    }
   ],
   "source": [
    "egg_count = 0\n",
    "\n",
    "def buy_eggs():\n",
    "    egg_count += 12 # purchase a dozen eggs\n",
    "\n",
    "buy_eggs()"
   ]
  },
  {
   "cell_type": "markdown",
   "metadata": {},
   "source": [
    "Note:\n",
    "This causes an UnboundLocalError, since Python doesn't allow functions to modify variables that are outside the function's scope. A better way would be to pass the variable as an argument and reassign it outside the function. See more on this in the next page."
   ]
  },
  {
   "cell_type": "code",
   "execution_count": 1,
   "metadata": {},
   "outputs": [
    {
     "name": "stdout",
     "output_type": "stream",
     "text": [
      "\n",
      "Welcome to Python3!\n",
      "\n",
      "             ____\n",
      "            / . .\\\n",
      "            \\  ---<\n",
      "             \\  /\n",
      "   __________/ /\n",
      "-=:___________/\n",
      "\n",
      "<3, Juno\n",
      "\n",
      "Welcome to Python3!\n",
      "\n",
      "             ____\n",
      "            / . .\\\n",
      "            \\  ---<\n",
      "             \\  /\n",
      "   __________/ /\n",
      "-=:___________/\n",
      "\n",
      "<3, Juno\n",
      "\n",
      "Welcome to Python3!\n",
      "\n",
      "             ____\n",
      "            / . .\\\n",
      "            \\  ---<\n",
      "             \\  /\n",
      "   __________/ /\n",
      "-=:___________/\n",
      "\n",
      "<3, Juno\n",
      "\n",
      "Welcome to Python3!\n",
      "\n",
      "             ____\n",
      "            / . .\\\n",
      "            \\  ---<\n",
      "             \\  /\n",
      "   __________/ /\n",
      "-=:___________/\n",
      "\n",
      "<3, Juno\n",
      "\n",
      "Welcome to Python3!\n",
      "\n",
      "             ____\n",
      "            / . .\\\n",
      "            \\  ---<\n",
      "             \\  /\n",
      "   __________/ /\n",
      "-=:___________/\n",
      "\n",
      "<3, Juno\n",
      "\n",
      "Welcome to Python3!\n",
      "\n",
      "             ____\n",
      "            / . .\\\n",
      "            \\  ---<\n",
      "             \\  /\n",
      "   __________/ /\n",
      "-=:___________/\n",
      "\n",
      "<3, Juno\n",
      "\n",
      "Welcome to Python3!\n",
      "\n",
      "             ____\n",
      "            / . .\\\n",
      "            \\  ---<\n",
      "             \\  /\n",
      "   __________/ /\n",
      "-=:___________/\n",
      "\n",
      "<3, Juno\n",
      "\n",
      "Welcome to Python3!\n",
      "\n",
      "             ____\n",
      "            / . .\\\n",
      "            \\  ---<\n",
      "             \\  /\n",
      "   __________/ /\n",
      "-=:___________/\n",
      "\n",
      "<3, Juno\n",
      "\n",
      "Welcome to Python3!\n",
      "\n",
      "             ____\n",
      "            / . .\\\n",
      "            \\  ---<\n",
      "             \\  /\n",
      "   __________/ /\n",
      "-=:___________/\n",
      "\n",
      "<3, Juno\n",
      "\n",
      "Welcome to Python3!\n",
      "\n",
      "             ____\n",
      "            / . .\\\n",
      "            \\  ---<\n",
      "             \\  /\n",
      "   __________/ /\n",
      "-=:___________/\n",
      "\n",
      "<3, Juno\n",
      "\n"
     ]
    }
   ],
   "source": [
    "how_many_snakes = 10\n",
    "snake_string = \"\"\"\n",
    "Welcome to Python3!\n",
    "\n",
    "             ____\n",
    "            / . .\\\\\n",
    "            \\  ---<\n",
    "             \\  /\n",
    "   __________/ /\n",
    "-=:___________/\n",
    "\n",
    "<3, Juno\n",
    "\"\"\"\n",
    "\n",
    "\n",
    "print(snake_string * how_many_snakes)"
   ]
  },
  {
   "cell_type": "markdown",
   "metadata": {},
   "source": [
    "# Scripting with Raw input"
   ]
  },
  {
   "cell_type": "markdown",
   "metadata": {},
   "source": [
    "Scripting With Raw Input\n",
    "We can get raw input from the user with the built-in function input, which takes in an optional string argument that you can use to specify a message to show to the user when asking for input."
   ]
  },
  {
   "cell_type": "code",
   "execution_count": 4,
   "metadata": {},
   "outputs": [
    {
     "name": "stdout",
     "output_type": "stream",
     "text": [
      "Enter your name: Somraj Soni\n",
      "Hello there, Somraj Soni!\n"
     ]
    }
   ],
   "source": [
    "name = input(\"Enter your name: \")\n",
    "print(\"Hello there, {}!\".format(name.title()))"
   ]
  },
  {
   "cell_type": "markdown",
   "metadata": {},
   "source": [
    "This prompts the user to enter a name and then uses the input in a greeting. The input function takes in whatever the user types and stores it as a string. If you want to interpret their input as something other than a string, like an integer, as in the example below, you need to wrap the result with the new type to convert it from a string."
   ]
  },
  {
   "cell_type": "code",
   "execution_count": 5,
   "metadata": {},
   "outputs": [
    {
     "name": "stdout",
     "output_type": "stream",
     "text": [
      "Enter an integer 25\n",
      "hellohellohellohellohellohellohellohellohellohellohellohellohellohellohellohellohellohellohellohellohellohellohellohellohello\n"
     ]
    }
   ],
   "source": [
    "num = int(input(\"Enter an integer\"))\n",
    "print(\"hello\" * num)\n"
   ]
  },
  {
   "cell_type": "markdown",
   "metadata": {},
   "source": [
    "We can also interpret user input as a Python expression using the built-in function eval. This function evaluates a string as a line of Python.\n",
    "if the user inputs 6*5 returns 30"
   ]
  },
  {
   "cell_type": "code",
   "execution_count": 6,
   "metadata": {},
   "outputs": [
    {
     "name": "stdout",
     "output_type": "stream",
     "text": [
      "Enter an expression: 25*659/32\n",
      "514.84375\n"
     ]
    }
   ],
   "source": [
    "result = eval(input(\"Enter an expression: \"))\n",
    "print(result)"
   ]
  },
  {
   "cell_type": "code",
   "execution_count": 2,
   "metadata": {},
   "outputs": [
    {
     "name": "stdout",
     "output_type": "stream",
     "text": [
      "insert student name: somraj soni\n",
      "insert number of missing assignments  5 \n",
      "insert current grade 85\n",
      "insert potential grade 92\n",
      "Hi Somraj Soni,\n",
      "\n",
      "This is a reminder that you have 5 assignments left to submit before you can graduate. You're current grade is 85 and can increase to 92 if you submit all assignments before the due date.\n",
      "\n",
      "\n",
      "Hi Samar Soni,\n",
      "\n",
      "This is a reminder that you have 4 assignments left to submit before you can graduate. You're current grade is 96 and can increase to 98 if you submit all assignments before the due date.\n",
      "\n",
      "\n",
      "Hi Vanshika Soni,\n",
      "\n",
      "This is a reminder that you have 3 assignments left to submit before you can graduate. You're current grade is 80 and can increase to 87 if you submit all assignments before the due date.\n",
      "\n",
      "\n",
      "Hi Virat Soni,\n",
      "\n",
      "This is a reminder that you have 4 assignments left to submit before you can graduate. You're current grade is 75 and can increase to 86 if you submit all assignments before the due date.\n",
      "\n",
      "\n"
     ]
    }
   ],
   "source": [
    "#names = [\"Somraj Soni\", \"Samar Soni\", \"Vanshika Soni\", \"Virat Soni\"] # get and process input for a list of names\n",
    "#assignments =  [5, 4, 3, 4]# get and process input for a list of the number of assignments\n",
    "#rades =  [85, 96, 80, 75]# get and process input for a list of grades\n",
    "#final_grades = [92, 98, 87, 86]\n",
    "\n",
    "name_input = input(\"insert student name: \")\n",
    "assignment_input = int(input(\"insert number of missing assignments  \"))\n",
    "inital_grade = int(input(\"insert current grade \"))\n",
    "final_grade = int(input(\"insert potential grade \"))\n",
    "# message string to be used for each student\n",
    "# HINT: use .format() with this string in your for loop\n",
    "\n",
    "for name, assignment, grade, fgrade in zip(names, assignments, grades, final_grades):\n",
    "    message = \"Hi {},\\n\\nThis is a reminder that you have {} assignments left to submit before you can graduate. You're current grade is {} and can increase to {} if you submit all assignments before the due date.\\n\\n\".format(name, assignment, grade,\\\n",
    "    fgrade)\n",
    "    print(message)\n",
    "# write a for loop that iterates through each set of names, assignments, and grades to print each student's message\n"
   ]
  },
  {
   "cell_type": "code",
   "execution_count": 2,
   "metadata": {},
   "outputs": [
    {
     "name": "stdout",
     "output_type": "stream",
     "text": [
      "Enter names separated by commas: samar soni, somraj soni, vikas soni\n",
      "Enter assignment counts separated by commas: 5, 4, 3, 2\n",
      "Enter grades separated by commas: 83, 72, 68, 75\n",
      "Hi Samar Soni,\n",
      "\n",
      "This is a reminder that you have 5 assignments left to submit before you can graduate. You're current grade is 83 and can increase to 93 if you submit all assignments before the due date.\n",
      "\n",
      "\n",
      "Hi Somraj Soni,\n",
      "\n",
      "This is a reminder that you have 4 assignments left to submit before you can graduate. You're current grade is 72 and can increase to 80 if you submit all assignments before the due date.\n",
      "\n",
      "\n",
      "Hi Vikas Soni,\n",
      "\n",
      "This is a reminder that you have 3 assignments left to submit before you can graduate. You're current grade is 68 and can increase to 74 if you submit all assignments before the due date.\n",
      "\n",
      "\n"
     ]
    }
   ],
   "source": [
    "names = input(\"Enter names separated by commas: \").title().split(\", \")\n",
    "assignments = input(\"Enter assignment counts separated by commas: \").split(\", \")\n",
    "grades = input(\"Enter grades separated by commas: \").split(\", \")\n",
    "\n",
    "message = \"Hi {},\\n\\nThis is a reminder that you have {} assignments left to \\\n",
    "submit before you can graduate. You're current grade is {} and can increase \\\n",
    "to {} if you submit all assignments before the due date.\\n\\n\"\n",
    "\n",
    "for name, assignment, grade in zip(names, assignments, grades):\n",
    "    print(message.format(name, assignment, grade, int(grade) + int(assignment)*2))"
   ]
  },
  {
   "cell_type": "markdown",
   "metadata": {},
   "source": [
    "# TRY Statement"
   ]
  },
  {
   "cell_type": "markdown",
   "metadata": {},
   "source": [
    "We can use try statements to handle exceptions. There are four clauses you can use (one more in addition to those shown in the video).\n",
    "\n",
    "1. try: This is the only mandatory clause in a try statement. The code in this block is the first thing that Python runs in a try statement.\n",
    "2. except: If Python runs into an exception while running the try block, it will jump to the except block that handles that exception.\n",
    "3. else: If Python runs into no exceptions while running the try block, it will run the code in this block after running the try block.\n",
    "4. finally: Before Python leaves this try statement, it will run the code in this finally block under any conditions, even if it's ending the program. E.g., if Python ran into an error while running code in the except or else block, this finally block will still be executed before stopping the program."
   ]
  },
  {
   "cell_type": "code",
   "execution_count": 4,
   "metadata": {},
   "outputs": [
    {
     "name": "stdout",
     "output_type": "stream",
     "text": [
      "Enter a number: ten\n",
      "That's not a valid number!\n",
      "\n",
      "Attempted Input\n",
      "\n",
      "Enter a number: twelve\n",
      "That's not a valid number!\n",
      "\n",
      "Attempted Input\n",
      "\n",
      "Enter a number: 5\n",
      "\n",
      "Attempted Input\n",
      "\n"
     ]
    }
   ],
   "source": [
    "while True:\n",
    "    try:\n",
    "        x = int(input('Enter a number: '))\n",
    "        break\n",
    "    except:\n",
    "        print('That\\'s not a valid number!')\n",
    "    finally:\n",
    "        print('\\nAttempted Input\\n')\n",
    "        "
   ]
  },
  {
   "cell_type": "code",
   "execution_count": null,
   "metadata": {},
   "outputs": [],
   "source": []
  },
  {
   "cell_type": "markdown",
   "metadata": {},
   "source": [
    "# Specifying Exceptions"
   ]
  },
  {
   "cell_type": "code",
   "execution_count": null,
   "metadata": {},
   "outputs": [],
   "source": [
    "#We can actually specify which error we want to handle in an except block like this:\n",
    "\n",
    "try:\n",
    "    # some code\n",
    "except ValueError:\n",
    "    # some code\n",
    "#Now, it catches the ValueError exception, but not other exceptions. If we want this handler to address more than one type of exception, we can include a parenthesized tuple after the except with the exceptions.\n",
    "\n",
    "try:\n",
    "    # some code\n",
    "except (ValueError, KeyboardInterrupt):\n",
    "    # some code\n",
    "#Or, if we want to execute different blocks of code depending on the exception, you can have multiple except blocks.\n",
    "\n",
    "try:\n",
    "    # some code\n",
    "except ValueError:\n",
    "    # some code\n",
    "except KeyboardInterrupt:\n",
    "    # some code"
   ]
  },
  {
   "cell_type": "code",
   "execution_count": null,
   "metadata": {},
   "outputs": [],
   "source": [
    "while True:\n",
    "    try:\n",
    "        x = int(input('Enter a number: '))\n",
    "        break\n",
    "    except ValueError:\n",
    "        print('That\\'s not a valid number!')\n",
    "    except KeyboardInterrupt:\n",
    "        print('\\nNo input taken')\n",
    "    finally:\n",
    "        print('\\nAttempted Input\\n')"
   ]
  },
  {
   "cell_type": "markdown",
   "metadata": {},
   "source": [
    "# Handling Input Errors"
   ]
  },
  {
   "cell_type": "markdown",
   "metadata": {},
   "source": [
    "The party_planner function below takes as input a number of party people and cookies and figures out how many cookies each person gets at the party, assuming equitable distribution of cookies. Then, it returns that number along with how many cookies will be left over.\n",
    "\n",
    "Right now, calling the function with an input of 0 people will cause an error, because it creates a ZeroDivisionError exception. Edit the party_planner function to handle this invalid input. If it runs into this exception, it should print a warning message to the user and request they input a different number of people.\n",
    "\n",
    "After you've edited the function, try running the file again and make sure it does what you intended. Try it with several different input values, including 0 and other values for the number of people.\n",
    "\n",
    "Using this workspace\n",
    "\n",
    "In some pages of our classroom, we'll provide you a workspace like the one below that will provide you a programming environment with a Terminal and code editor, so you can do all your work right here. Here are a few tips orienting you to this kind of workspace.\n",
    "\n",
    "On the top panel is a code editor where you can edit your Python file. Scroll up and down in this panel to see all the code. You can also expand or shrink this panel by clicking and dragging its bottom border.\n",
    "\n",
    "On the bottom panel, you can execute this Python file by clicking on New Terminal and entering python handling_errors.py on the command line."
   ]
  },
  {
   "cell_type": "code",
   "execution_count": 4,
   "metadata": {},
   "outputs": [
    {
     "name": "stdout",
     "output_type": "stream",
     "text": [
      "How many cookies are you baking? 50\n",
      "How many people are attending? 0\n",
      "Oops, you entered 0 people will be attending.\n",
      "Please enter a good number of people for a party.\n",
      "\n",
      "Would you like to party more? (y or n) y\n",
      "How many cookies are you baking? 50\n",
      "How many people are attending? 5\n",
      "\n",
      "Let's party! We'll have 5 people attending, they'll each get to eat 10 cookies, and we'll have 0 left over.\n",
      "\n",
      "Would you like to party more? (y or n) n\n"
     ]
    }
   ],
   "source": [
    "def party_planner(cookies, people):\n",
    "    leftovers = None\n",
    "    num_each = None\n",
    "    # TODO: Add a try-except block here to\n",
    "    #       make sure no ZeroDivisionError occurs.\n",
    "    try:\n",
    "        num_each = cookies // people\n",
    "        leftovers = cookies % people\n",
    "    except ZeroDivisionError as e:\n",
    "        print(\"Oops, you entered 0 people will be attending.\\nPlease enter a good number of people for a party.\".format(e))\n",
    "    return(num_each, leftovers)\n",
    "\n",
    "# The main code block is below; do not edit this\n",
    "lets_party = 'y'\n",
    "while lets_party == 'y':\n",
    "\n",
    "    cookies = int(input(\"How many cookies are you baking? \"))\n",
    "    people = int(input(\"How many people are attending? \"))\n",
    "    cookies_each, leftovers = party_planner(cookies, people)\n",
    "\n",
    "    if cookies_each:  # if cookies_each is not None\n",
    "        message = \"\\nLet's party! We'll have {} people attending, they'll each get to eat {} cookies, and we'll have {} left over.\"\n",
    "        print(message.format(people, cookies_each, leftovers))\n",
    "\n",
    "    lets_party = input(\"\\nWould you like to party more? (y or n) \")\n"
   ]
  },
  {
   "cell_type": "markdown",
   "metadata": {},
   "source": [
    "# Accessing Error Messages"
   ]
  },
  {
   "cell_type": "code",
   "execution_count": 3,
   "metadata": {},
   "outputs": [
    {
     "ename": "IndentationError",
     "evalue": "expected an indented block (<ipython-input-3-85e9549239fb>, line 5)",
     "output_type": "error",
     "traceback": [
      "\u001b[1;36m  File \u001b[1;32m\"<ipython-input-3-85e9549239fb>\"\u001b[1;36m, line \u001b[1;32m5\u001b[0m\n\u001b[1;33m    except ZeroDivisionError as e:\u001b[0m\n\u001b[1;37m         ^\u001b[0m\n\u001b[1;31mIndentationError\u001b[0m\u001b[1;31m:\u001b[0m expected an indented block\n"
     ]
    }
   ],
   "source": [
    "#When you handle an exception, you can still access its error message like this:\n",
    "\n",
    "try:\n",
    "    # some code\n",
    "except ZeroDivisionError as e:\n",
    "   # some code\n",
    "   print(\"ZeroDivisionError occurred: {}\".format(e))\n",
    "#This would print something like this:\n",
    "\n",
    "#ZeroDivisionError occurred: integer division or modulo by zero\n",
    "#So you can still access error messages, even if you handle them to keep your program from crashing!\n",
    "\n",
    "#If you don't have a specific error you're handling, you can still access the message like this:\n",
    "\n",
    "try:\n",
    "    # some code\n",
    "except Exception as e:\n",
    "   # some code\n",
    "   print(\"Exception occurred: {}\".format(e))\n",
    "#Exception is just the base class for all built-in exceptions."
   ]
  },
  {
   "cell_type": "code",
   "execution_count": null,
   "metadata": {},
   "outputs": [],
   "source": []
  }
 ],
 "metadata": {
  "kernelspec": {
   "display_name": "Python 3",
   "language": "python",
   "name": "python3"
  },
  "language_info": {
   "codemirror_mode": {
    "name": "ipython",
    "version": 3
   },
   "file_extension": ".py",
   "mimetype": "text/x-python",
   "name": "python",
   "nbconvert_exporter": "python",
   "pygments_lexer": "ipython3",
   "version": "3.7.6"
  }
 },
 "nbformat": 4,
 "nbformat_minor": 4
}
